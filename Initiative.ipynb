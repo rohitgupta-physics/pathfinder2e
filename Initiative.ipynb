{
 "cells": [
  {
   "cell_type": "code",
   "execution_count": 24,
   "id": "1056a54c",
   "metadata": {},
   "outputs": [],
   "source": [
    "import numpy as np"
   ]
  },
  {
   "cell_type": "markdown",
   "id": "539c2062",
   "metadata": {},
   "source": [
    "# Dice"
   ]
  },
  {
   "cell_type": "code",
   "execution_count": 3,
   "id": "dc94da09",
   "metadata": {},
   "outputs": [],
   "source": [
    "class dice:\n",
    "\n",
    "    def __init__(self,n_dice,t_dice):\n",
    "        self.n_dice = n_dice\n",
    "        self.t_dice = t_dice\n",
    "    \n",
    "    def roll(self):\n",
    "        if self.n_dice == 0:\n",
    "            return 0\n",
    "        return sum([np.random.randint(1,1+self.t_dice) for i in range(self.n_dice)])"
   ]
  },
  {
   "cell_type": "markdown",
   "id": "c8ff2ec6",
   "metadata": {},
   "source": [
    "# One Boss and Four Lackeys"
   ]
  },
  {
   "cell_type": "code",
   "execution_count": 27,
   "id": "eaecf214",
   "metadata": {},
   "outputs": [
    {
     "name": "stdout",
     "output_type": "stream",
     "text": [
      "0.34581\n"
     ]
    }
   ],
   "source": [
    "N = 10**5\n",
    "made_difference = 0\n",
    "for i in range(N):\n",
    "    our_perception = 10\n",
    "    init_without = dice(1,20).roll()+our_perception\n",
    "    #print(init_without)\n",
    "    init_with = init_without+2\n",
    "    #print(init_with)\n",
    "    \n",
    "    prob = [0.05,0.3,0.3,0.3,0.05]\n",
    "    monster_init = []\n",
    "    \n",
    "    perception_boss = [21,19,16,13,11]\n",
    "    boss = np.random.choice(perception_boss,1,p=prob)\n",
    "    for i in boss:\n",
    "        monster_init.append(dice(1,20).roll()+i)\n",
    "    \n",
    "    perception_lackey = [12,11,8,5,3]\n",
    "    lackey = np.random.choice(perception_lackey,4,p=prob)\n",
    "    for i in lackey:\n",
    "        monster_init.append(dice(1,20).roll()+i)\n",
    "    #print(monster_init)\n",
    "\n",
    "    our_ranking_old = 0\n",
    "    our_ranking_new = 0\n",
    "    for i in monster_init:\n",
    "        if i < init_without:\n",
    "            our_ranking_old += 1\n",
    "        if i < init_with:\n",
    "            our_ranking_new += 1\n",
    "    if our_ranking_new > our_ranking_old:\n",
    "        made_difference += 1\n",
    "print(made_difference/N)"
   ]
  },
  {
   "cell_type": "markdown",
   "id": "45387156",
   "metadata": {},
   "source": [
    "# One Boss and One Lieutenant"
   ]
  },
  {
   "cell_type": "code",
   "execution_count": 26,
   "id": "01d44416",
   "metadata": {},
   "outputs": [
    {
     "name": "stdout",
     "output_type": "stream",
     "text": [
      "0.14816\n"
     ]
    }
   ],
   "source": [
    "N = 10**5\n",
    "made_difference = 0\n",
    "for i in range(N):\n",
    "    our_perception = 10\n",
    "    init_without = dice(1,20).roll()+our_perception\n",
    "    #print(init_without)\n",
    "    init_with = init_without+2\n",
    "    #print(init_with)\n",
    "    \n",
    "    prob = [0.05,0.3,0.3,0.3,0.05]\n",
    "    monster_init = []\n",
    "    \n",
    "    perception_boss = [21,19,16,13,11]\n",
    "    boss = np.random.choice(perception_boss,1,p=prob)\n",
    "    for i in boss:\n",
    "        monster_init.append(dice(1,20).roll()+i)\n",
    "    \n",
    "    perception_lieutenant = [18,17,14,11,8]\n",
    "    lieutenant = np.random.choice(perception_lieutenant,1,p=prob)\n",
    "    for i in lieutenant:\n",
    "        monster_init.append(dice(1,20).roll()+i)\n",
    "\n",
    "    our_ranking_old = 0\n",
    "    our_ranking_new = 0\n",
    "    for i in monster_init:\n",
    "        if i < init_without:\n",
    "            our_ranking_old += 1\n",
    "        if i < init_with:\n",
    "            our_ranking_new += 1\n",
    "    if our_ranking_new > our_ranking_old:\n",
    "        made_difference += 1\n",
    "print(made_difference/N)"
   ]
  },
  {
   "cell_type": "markdown",
   "id": "40549c5a",
   "metadata": {},
   "source": [
    "# Three Lieutenants"
   ]
  },
  {
   "cell_type": "code",
   "execution_count": 28,
   "id": "41d0a970",
   "metadata": {},
   "outputs": [
    {
     "name": "stdout",
     "output_type": "stream",
     "text": [
      "0.22474\n"
     ]
    }
   ],
   "source": [
    "N = 10**5\n",
    "made_difference = 0\n",
    "for i in range(N):\n",
    "    our_perception = 10\n",
    "    init_without = dice(1,20).roll()+our_perception\n",
    "    #print(init_without)\n",
    "    init_with = init_without+2\n",
    "    #print(init_with)\n",
    "    \n",
    "    prob = [0.05,0.3,0.3,0.3,0.05]\n",
    "    monster_init = []    \n",
    "    \n",
    "    perception_lieutenant = [18,17,14,11,8]\n",
    "    lieutenant = np.random.choice(perception_lieutenant,3,p=prob)\n",
    "    for i in lieutenant:\n",
    "        monster_init.append(dice(1,20).roll()+i)\n",
    "\n",
    "    our_ranking_old = 0\n",
    "    our_ranking_new = 0\n",
    "    for i in monster_init:\n",
    "        if i < init_without:\n",
    "            our_ranking_old += 1\n",
    "        if i < init_with:\n",
    "            our_ranking_new += 1\n",
    "    if our_ranking_new > our_ranking_old:\n",
    "        made_difference += 1\n",
    "print(made_difference/N)"
   ]
  },
  {
   "cell_type": "markdown",
   "id": "2e1ec657",
   "metadata": {},
   "source": [
    "# One Lieutenant and Four Lackeys"
   ]
  },
  {
   "cell_type": "code",
   "execution_count": 30,
   "id": "b98e81b0",
   "metadata": {},
   "outputs": [
    {
     "name": "stdout",
     "output_type": "stream",
     "text": [
      "0.35154\n"
     ]
    }
   ],
   "source": [
    "N = 10**5\n",
    "made_difference = 0\n",
    "for i in range(N):\n",
    "    our_perception = 10\n",
    "    init_without = dice(1,20).roll()+our_perception\n",
    "    #print(init_without)\n",
    "    init_with = init_without+2\n",
    "    #print(init_with)\n",
    "    \n",
    "    prob = [0.05,0.3,0.3,0.3,0.05]\n",
    "    monster_init = []    \n",
    "    \n",
    "    perception_lieutenant = [18,17,14,11,8]\n",
    "    lieutenant = np.random.choice(perception_lieutenant,1,p=prob)\n",
    "    for i in lieutenant:\n",
    "        monster_init.append(dice(1,20).roll()+i)\n",
    "        \n",
    "    perception_lackey = [12,11,8,5,3]\n",
    "    lackey = np.random.choice(perception_lackey,4,p=prob)\n",
    "    for i in lackey:\n",
    "        monster_init.append(dice(1,20).roll()+i)\n",
    "\n",
    "    our_ranking_old = 0\n",
    "    our_ranking_new = 0\n",
    "    for i in monster_init:\n",
    "        if i < init_without:\n",
    "            our_ranking_old += 1\n",
    "        if i < init_with:\n",
    "            our_ranking_new += 1\n",
    "    if our_ranking_new > our_ranking_old:\n",
    "        made_difference += 1\n",
    "print(made_difference/N)"
   ]
  },
  {
   "cell_type": "markdown",
   "id": "5b7bdaea",
   "metadata": {},
   "source": [
    "# Two Lieutenants"
   ]
  },
  {
   "cell_type": "code",
   "execution_count": 32,
   "id": "178af312",
   "metadata": {},
   "outputs": [
    {
     "name": "stdout",
     "output_type": "stream",
     "text": [
      "0.15554\n"
     ]
    }
   ],
   "source": [
    "N = 10**5\n",
    "made_difference = 0\n",
    "for i in range(N):\n",
    "    our_perception = 10\n",
    "    init_without = dice(1,20).roll()+our_perception\n",
    "    #print(init_without)\n",
    "    init_with = init_without+2\n",
    "    #print(init_with)\n",
    "    \n",
    "    prob = [0.05,0.3,0.3,0.3,0.05]\n",
    "    monster_init = []    \n",
    "    \n",
    "    perception_lieutenant = [18,17,14,11,8]\n",
    "    lieutenant = np.random.choice(perception_lieutenant,2,p=prob)\n",
    "    for i in lieutenant:\n",
    "        monster_init.append(dice(1,20).roll()+i)\n",
    "        \n",
    "\n",
    "    our_ranking_old = 0\n",
    "    our_ranking_new = 0\n",
    "    for i in monster_init:\n",
    "        if i < init_without:\n",
    "            our_ranking_old += 1\n",
    "        if i < init_with:\n",
    "            our_ranking_new += 1\n",
    "    if our_ranking_new > our_ranking_old:\n",
    "        made_difference += 1\n",
    "print(made_difference/N)"
   ]
  },
  {
   "cell_type": "markdown",
   "id": "e9b6dcf2",
   "metadata": {},
   "source": [
    "# One Lieutenant and two Troopers"
   ]
  },
  {
   "cell_type": "code",
   "execution_count": 36,
   "id": "49a50007",
   "metadata": {},
   "outputs": [
    {
     "name": "stdout",
     "output_type": "stream",
     "text": [
      "0.23353\n"
     ]
    }
   ],
   "source": [
    "N = 10**5\n",
    "made_difference = 0\n",
    "for i in range(N):\n",
    "    our_perception = 10\n",
    "    init_without = dice(1,20).roll()+our_perception\n",
    "    #print(init_without)\n",
    "    init_with = init_without+2\n",
    "    #print(init_with)\n",
    "    \n",
    "    prob = [0.05,0.3,0.3,0.3,0.05]\n",
    "    monster_init = []    \n",
    "    \n",
    "    perception_lieutenant = [18,17,14,11,8]\n",
    "    lieutenant = np.random.choice(perception_lieutenant,1,p=prob)\n",
    "    for i in lieutenant:\n",
    "        monster_init.append(dice(1,20).roll()+i)\n",
    "        \n",
    "    perception_trooper = [15,14,11,8,6]\n",
    "    trooper = np.random.choice(perception_trooper,2,p=prob)\n",
    "    for i in trooper:\n",
    "        monster_init.append(dice(1,20).roll()+i)\n",
    "\n",
    "    our_ranking_old = 0\n",
    "    our_ranking_new = 0\n",
    "    for i in monster_init:\n",
    "        if i < init_without:\n",
    "            our_ranking_old += 1\n",
    "        if i < init_with:\n",
    "            our_ranking_new += 1\n",
    "    if our_ranking_new > our_ranking_old:\n",
    "        made_difference += 1\n",
    "print(made_difference/N)"
   ]
  },
  {
   "cell_type": "markdown",
   "id": "02b5b9e8",
   "metadata": {},
   "source": [
    "# Four Lackeys"
   ]
  },
  {
   "cell_type": "code",
   "execution_count": 37,
   "id": "cbc19587",
   "metadata": {},
   "outputs": [
    {
     "name": "stdout",
     "output_type": "stream",
     "text": [
      "0.29518\n"
     ]
    }
   ],
   "source": [
    "N = 10**5\n",
    "made_difference = 0\n",
    "for i in range(N):\n",
    "    our_perception = 10\n",
    "    init_without = dice(1,20).roll()+our_perception\n",
    "    #print(init_without)\n",
    "    init_with = init_without+2\n",
    "    #print(init_with)\n",
    "    \n",
    "    prob = [0.05,0.3,0.3,0.3,0.05]\n",
    "    monster_init = []    \n",
    "    \n",
    "    perception_lackey = [12,11,8,5,3]\n",
    "    lackey = np.random.choice(perception_lackey,4,p=prob)\n",
    "    for i in lackey:\n",
    "        monster_init.append(dice(1,20).roll()+i)\n",
    "\n",
    "    our_ranking_old = 0\n",
    "    our_ranking_new = 0\n",
    "    for i in monster_init:\n",
    "        if i < init_without:\n",
    "            our_ranking_old += 1\n",
    "        if i < init_with:\n",
    "            our_ranking_new += 1\n",
    "    if our_ranking_new > our_ranking_old:\n",
    "        made_difference += 1\n",
    "print(made_difference/N)"
   ]
  },
  {
   "cell_type": "code",
   "execution_count": null,
   "id": "403cb332",
   "metadata": {},
   "outputs": [],
   "source": []
  }
 ],
 "metadata": {
  "kernelspec": {
   "display_name": "Python 3 (ipykernel)",
   "language": "python",
   "name": "python3"
  },
  "language_info": {
   "codemirror_mode": {
    "name": "ipython",
    "version": 3
   },
   "file_extension": ".py",
   "mimetype": "text/x-python",
   "name": "python",
   "nbconvert_exporter": "python",
   "pygments_lexer": "ipython3",
   "version": "3.10.9"
  }
 },
 "nbformat": 4,
 "nbformat_minor": 5
}
